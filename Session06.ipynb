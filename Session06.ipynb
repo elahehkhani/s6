{
 "cells": [
  {
   "cell_type": "code",
   "execution_count": 32,
   "metadata": {},
   "outputs": [
    {
     "name": "stdout",
     "output_type": "stream",
     "text": [
      "{'d': 400, 'c': 300, 'b': 400, 'a': 400}\n"
     ]
    }
   ],
   "source": [
    "#1\n",
    "result = {}\n",
    "d1 = {'a':100, 'b':200, 'c':300}\n",
    "d2 = {'a':300, 'b':200, 'd':400}\n",
    "print ( {k: d1.get(k, 0) + d2.get(k, 0) for k in set(d1) | set(d2)} )"
   ]
  },
  {
   "cell_type": "code",
   "execution_count": 83,
   "metadata": {},
   "outputs": [
    {
     "name": "stdout",
     "output_type": "stream",
     "text": [
      "{25, 30}\n",
      "{25: 2, 30: 2}\n",
      "['Ali', 'Mina', 'Reza', 'Sara']\n"
     ]
    }
   ],
   "source": [
    "#2\n",
    "people = [(\"Ali\",25), (\"Mina\",30), (\"Reza\",25), (\"Sara\",30)]\n",
    "a = []\n",
    "for i in people:\n",
    "    a.append (i[1])\n",
    "age = list (a)\n",
    "print (set (age))\n",
    "\n",
    "age2 = {}\n",
    "for char in age:\n",
    "    age2.setdefault(char, 0)\n",
    "    age2[char]+=1\n",
    "print (age2)\n",
    "\n",
    "b = age.sort ()\n",
    "names = []\n",
    "for i in people:\n",
    "    names.append (i[0])\n",
    "print(names)\n",
    "\n"
   ]
  },
  {
   "cell_type": "code",
   "execution_count": 94,
   "metadata": {},
   "outputs": [
    {
     "data": {
      "text/plain": [
       "[{'name': 'mina', 'age': 30}, {'name': 'sara', 'age': 28}]"
      ]
     },
     "execution_count": 94,
     "metadata": {},
     "output_type": "execute_result"
    }
   ],
   "source": [
    "#3\n",
    "people1 = [{\"name\":\"ali\",\"age\":23}, {\"name\":\"mina\",\"age\":30}, {\"name\":\"reza\",\"age\":25}, {\"name\":\"sara\",\"age\":28}]\n",
    "a1 = []\n",
    "for i in people1:\n",
    "    v = i.get(\"age\")\n",
    "    if v > 25:\n",
    "        a1.append(i)\n",
    "a1"
   ]
  },
  {
   "cell_type": "code",
   "execution_count": 107,
   "metadata": {},
   "outputs": [
    {
     "name": "stdout",
     "output_type": "stream",
     "text": [
      "{1, 2, 3, 4, 5}\n"
     ]
    }
   ],
   "source": [
    "#4\n",
    "nestedList = [[1,2,3], [2,3,4], [3,4,5]]\n",
    "a2 = []\n",
    "for i in nestedList:\n",
    "    for j in i:\n",
    "        a2.append(j)\n",
    "print (set(a2))"
   ]
  },
  {
   "cell_type": "code",
   "execution_count": 118,
   "metadata": {},
   "outputs": [
    {
     "data": {
      "text/plain": [
       "{5: 'apple', 3: 'dog', 4: 'book', 6: 'python'}"
      ]
     },
     "execution_count": 118,
     "metadata": {},
     "output_type": "execute_result"
    }
   ],
   "source": [
    "#5\n",
    "words = [\"apple\", \"cat\", \"dog\", \"book\", \"python\"]\n",
    "dWords = {}\n",
    "for i in words:\n",
    "    dWords.setdefault(i, 0)\n",
    "    dWords[i]+= len(i)\n",
    "{v:k for k,v in dWords.items()}"
   ]
  }
 ],
 "metadata": {
  "kernelspec": {
   "display_name": "Python 3",
   "language": "python",
   "name": "python3"
  },
  "language_info": {
   "codemirror_mode": {
    "name": "ipython",
    "version": 3
   },
   "file_extension": ".py",
   "mimetype": "text/x-python",
   "name": "python",
   "nbconvert_exporter": "python",
   "pygments_lexer": "ipython3",
   "version": "3.8.10"
  }
 },
 "nbformat": 4,
 "nbformat_minor": 2
}
